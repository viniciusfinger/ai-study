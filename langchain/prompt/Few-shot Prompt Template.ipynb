{
 "cells": [
  {
   "cell_type": "markdown",
   "metadata": {},
   "source": [
    "# Few Shot Prompt Template"
   ]
  },
  {
   "cell_type": "code",
   "execution_count": 14,
   "metadata": {},
   "outputs": [],
   "source": [
    "from langchain_openai import OpenAI\n",
    "\n",
    "llm = OpenAI()"
   ]
  },
  {
   "cell_type": "markdown",
   "metadata": {},
   "source": [
    "Creating the questions to contextualize:"
   ]
  },
  {
   "cell_type": "code",
   "execution_count": 15,
   "metadata": {},
   "outputs": [],
   "source": [
    "questions = [\n",
    "    {\"question\": \"Who lived longer, Muhammad Ali or Alan Turing?\", \n",
    "     \"response\": \n",
    "     \"\"\"Follow-up questions needed here: Yes. \n",
    "Follow-up question: How old was Muhammad Ali when he died? \n",
    "Intermediate answer: Muhammad Ali was 74 years old when he died. \n",
    "Follow-up question: How old was Alan Turing when he died? \n",
    "Intermediate answer: Alan Turing was 41 years old when he died. \n",
    "So the final answer is: Muhammad Ali \n",
    "\"\"\", \n",
    "    }, \n",
    "    {\"question\": \"When was the founder of Craigslist born?\", \n",
    "     \"response\": \n",
    "\"\"\"Follow-up questions needed here: Yes. \n",
    "Follow-up question: Who founded Craigslist? \n",
    "Intermediate answer: Craigslist was founded by Craig Newmark. \n",
    "Follow-up question: When was Craig Newmark born? \n",
    "Intermediate answer: Craig Newmark was born on December 6, 1952. \n",
    "So the final answer is: December 6, 1952 \n",
    "\"\"\", \n",
    "    }, \n",
    "    {\"question\": \"Who was George Washington's maternal grandfather?\",\n",
    "     \"response\": \n",
    "\"\"\"Follow-up questions needed here: Yes. \n",
    "Follow-up question: Who was George Washington's mother? \n",
    "Intermediate answer: George Washington's mother was Mary Ball Washington. \n",
    "Follow-up question: Who was Mary Ball Washington's father? \n",
    "Intermediate answer: Mary Ball Washington's father was Joseph Ball. \n",
    "So the final answer is: Joseph Ball \n",
    "\"\"\", \n",
    "    },\n",
    "    {\"question\": \"Are the directors of Jaws and Casino Royale from the same country?\", \n",
    "     \"response\": \n",
    "\"\"\"Follow-up questions needed here: Yes. \n",
    "Follow-up question: Who is the director of Jaws? \n",
    "Intermediate answer: The director of Jaws is Steven Spielberg. \n",
    "Follow-up question: Where is Steven Spielberg from? \n",
    "Intermediate answer: United States. \n",
    "Follow-up question: Who is the director of Casino Royale? \n",
    "Intermediate answer: The director of Casino Royale is Martin Campbell. \n",
    "Follow-up question: Where is Martin Campbell from? \n",
    "Intermediate answer: New Zealand. \n",
    "So the final answer is: No \n",
    "\"\"\",\n",
    "    },\n",
    "]"
   ]
  },
  {
   "cell_type": "markdown",
   "metadata": {},
   "source": [
    "Creating the few shot template:"
   ]
  },
  {
   "cell_type": "code",
   "execution_count": 16,
   "metadata": {},
   "outputs": [
    {
     "data": {
      "text/plain": [
       "'\\nFollow-up questions needed here: Yes. \\nFollow-up question: How old was Michael Jackson when he died? \\nIntermediate answer: Michael Jackson was 50 years old when he died. \\nFollow-up question: How old was Elvis Presley when he died? \\nIntermediate answer: Elvis Presley was 42 years old when he died. \\nSo the final answer is: Michael Jackson'"
      ]
     },
     "execution_count": 16,
     "metadata": {},
     "output_type": "execute_result"
    }
   ],
   "source": [
    "from langchain.prompts.few_shot import FewShotPromptTemplate\n",
    "from langchain.prompts.prompt import PromptTemplate\n",
    "\n",
    "example_prompt = PromptTemplate.from_template(\"\"\"\n",
    "Question {question}\\n {response}                                              \n",
    "\"\"\")\n",
    "\n",
    "few_shot_template = FewShotPromptTemplate(\n",
    "    examples=questions,\n",
    "    example_prompt=example_prompt,\n",
    "    suffix=\"Question: {question}\",\n",
    "    input_variables=[\"question\"]\n",
    ")\n",
    "\n",
    "few_shot_prompt = few_shot_template.format(question=\"Who lived longer, Michael Jackson or Elvis Presley?\")\n",
    "\n",
    "llm.invoke(few_shot_prompt)"
   ]
  }
 ],
 "metadata": {
  "kernelspec": {
   "display_name": "Python 3",
   "language": "python",
   "name": "python3"
  },
  "language_info": {
   "codemirror_mode": {
    "name": "ipython",
    "version": 3
   },
   "file_extension": ".py",
   "mimetype": "text/x-python",
   "name": "python",
   "nbconvert_exporter": "python",
   "pygments_lexer": "ipython3",
   "version": "3.9.6"
  }
 },
 "nbformat": 4,
 "nbformat_minor": 2
}
