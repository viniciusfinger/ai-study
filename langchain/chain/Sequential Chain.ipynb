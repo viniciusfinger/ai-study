{
 "cells": [
  {
   "cell_type": "markdown",
   "metadata": {},
   "source": [
    "# Sequential Chain\n",
    "The mosted used chain. Can be parallelized."
   ]
  },
  {
   "cell_type": "code",
   "execution_count": 7,
   "metadata": {},
   "outputs": [
    {
     "name": "stdout",
     "output_type": "stream",
     "text": [
      "\n",
      "\n",
      "\u001b[1m> Entering new SequentialChain chain...\u001b[0m\n",
      "\n",
      "\u001b[1m> Finished chain.\u001b[0m\n"
     ]
    },
    {
     "data": {
      "text/plain": [
       "{'product': 'Cupcakes and Muffins',\n",
       " 'company_name': '\"Dessert Delights Co.\"',\n",
       " 'description': 'Dessert Delights Co. specializes in creating delicious cupcakes and muffins using high-quality ingredients and unique flavor combinations. Our bakery offers a wide variety of sweet treats for all occasions, from classic favorites to seasonal specialties, all baked with love and care.',\n",
       " 'translation': 'A Dessert Delights Co. especializa-se na criação de deliciosos cupcakes e muffins utilizando ingredientes de alta qualidade e combinações de sabores únicas. A nossa pastelaria oferece uma grande variedade de doces para todas as ocasiões, desde os favoritos clássicos até às especialidades sazonais, todos feitos com amor e cuidado.'}"
      ]
     },
     "execution_count": 7,
     "metadata": {},
     "output_type": "execute_result"
    }
   ],
   "source": [
    "from langchain_openai import ChatOpenAI\n",
    "from langchain.prompts import PromptTemplate\n",
    "from langchain.chains.llm import LLMChain\n",
    "from langchain.chains import SequentialChain\n",
    "\n",
    "llm = ChatOpenAI()\n",
    "\n",
    "company_name_prompt_tempate = PromptTemplate.from_template(\"\"\"\n",
    "What's the best name for a company that develops the product: {product}                                          \n",
    "\"\"\")\n",
    "\n",
    "chain_name = LLMChain(llm=llm, prompt=company_name_prompt_tempate, output_key=\"company_name\")\n",
    "\n",
    "description_prompt_template = PromptTemplate.from_template(\"\"\"\n",
    "Given a company with name: {company_name} that produces {product}, write a description of the company's activities in up to 50 words.\n",
    "\"\"\")\n",
    "\n",
    "chain_description = LLMChain(llm=llm, prompt=description_prompt_template, output_key=\"description\")\n",
    "\n",
    "translate_prompt = PromptTemplate.from_template(\"\"\"\n",
    "Translate the following description of the company {company_name} to Portuguese: {description}\n",
    "\"\"\")\n",
    "\n",
    "chain_translation = LLMChain(llm=llm, prompt=translate_prompt, output_key=\"translation\")\n",
    "\n",
    "chain = SequentialChain(\n",
    "    chains = [chain_name, chain_description, chain_translation],\n",
    "    input_variables=[\"product\"],\n",
    "    output_variables=[\"company_name\", \"description\", \"translation\"],\n",
    "    verbose=True\n",
    ")\n",
    "\n",
    "chain.invoke({\"product\": \"Cupcakes and Muffins\"})\n",
    "\n",
    "#23:40"
   ]
  }
 ],
 "metadata": {
  "kernelspec": {
   "display_name": "Python 3",
   "language": "python",
   "name": "python3"
  },
  "language_info": {
   "codemirror_mode": {
    "name": "ipython",
    "version": 3
   },
   "file_extension": ".py",
   "mimetype": "text/x-python",
   "name": "python",
   "nbconvert_exporter": "python",
   "pygments_lexer": "ipython3",
   "version": "3.9.6"
  }
 },
 "nbformat": 4,
 "nbformat_minor": 2
}
