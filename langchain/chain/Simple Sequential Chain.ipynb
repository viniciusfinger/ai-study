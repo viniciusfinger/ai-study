{
 "cells": [
  {
   "cell_type": "markdown",
   "metadata": {},
   "source": [
    "# Simple Sequential Chain\n",
    "Sequential chains, forward the response to the next chain"
   ]
  },
  {
   "cell_type": "code",
   "execution_count": 3,
   "metadata": {},
   "outputs": [
    {
     "name": "stderr",
     "output_type": "stream",
     "text": [
      "/Users/viniciusfinger/Library/Python/3.9/lib/python/site-packages/langchain_core/_api/deprecation.py:139: LangChainDeprecationWarning: The method `Chain.run` was deprecated in langchain 0.1.0 and will be removed in 0.3.0. Use invoke instead.\n",
      "  warn_deprecated(\n"
     ]
    },
    {
     "name": "stdout",
     "output_type": "stream",
     "text": [
      "\n",
      "\n",
      "\u001b[1m> Entering new SimpleSequentialChain chain...\u001b[0m\n",
      "\u001b[36;1m\u001b[1;3m\"Pink Crumb Co.\"\u001b[0m\n",
      "\u001b[33;1m\u001b[1;3mPink Crumb Co. is a bakery specializing in delicious, handmade pastries and desserts. Our team of talented bakers creates a variety of sweet treats, from cupcakes to macarons, using only the finest ingredients. Visit us for a delightful sugar rush!\u001b[0m\n",
      "\n",
      "\u001b[1m> Finished chain.\u001b[0m\n"
     ]
    },
    {
     "data": {
      "text/plain": [
       "'Pink Crumb Co. is a bakery specializing in delicious, handmade pastries and desserts. Our team of talented bakers creates a variety of sweet treats, from cupcakes to macarons, using only the finest ingredients. Visit us for a delightful sugar rush!'"
      ]
     },
     "execution_count": 3,
     "metadata": {},
     "output_type": "execute_result"
    }
   ],
   "source": [
    "from langchain_openai import ChatOpenAI\n",
    "from langchain.chains import SimpleSequentialChain\n",
    "from langchain.prompts import PromptTemplate\n",
    "from langchain.chains.llm import LLMChain\n",
    "\n",
    "llm = ChatOpenAI()\n",
    "\n",
    "company_name_prompt_tempate = PromptTemplate.from_template(\"\"\"\n",
    "What's the best name for a company that develops the product: {product}                                          \n",
    "\"\"\")\n",
    "\n",
    "chain_name = LLMChain(llm=llm, prompt=company_name_prompt_tempate)\n",
    "\n",
    "description_prompt_template = PromptTemplate.from_template(\"\"\"\n",
    "Given a company with name: {company_name}, write a description of the company's activities in up to 50 words.\n",
    "\"\"\")\n",
    "\n",
    "chain_description = LLMChain(llm=llm, prompt=description_prompt_template)\n",
    "\n",
    "chains = SimpleSequentialChain(\n",
    "    chains = [chain_name, chain_description],\n",
    "    verbose=True\n",
    ")\n",
    "\n",
    "chains.run(\"Pink cookies\")"
   ]
  }
 ],
 "metadata": {
  "kernelspec": {
   "display_name": "Python 3",
   "language": "python",
   "name": "python3"
  },
  "language_info": {
   "codemirror_mode": {
    "name": "ipython",
    "version": 3
   },
   "file_extension": ".py",
   "mimetype": "text/x-python",
   "name": "python",
   "nbconvert_exporter": "python",
   "pygments_lexer": "ipython3",
   "version": "3.9.6"
  }
 },
 "nbformat": 4,
 "nbformat_minor": 2
}
