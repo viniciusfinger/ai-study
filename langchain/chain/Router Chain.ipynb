{
 "cells": [
  {
   "cell_type": "markdown",
   "metadata": {},
   "source": [
    "# Router Chain\n",
    "Select the next chain based on a parameter. It's possible to follow different paths."
   ]
  },
  {
   "cell_type": "code",
   "execution_count": 4,
   "metadata": {},
   "outputs": [
    {
     "name": "stderr",
     "output_type": "stream",
     "text": [
      "/Users/viniciusfinger/Library/Python/3.9/lib/python/site-packages/langchain_core/_api/deprecation.py:139: LangChainDeprecationWarning: The class `LLMChain` was deprecated in LangChain 0.1.17 and will be removed in 1.0. Use RunnableSequence, e.g., `prompt | llm` instead.\n",
      "  warn_deprecated(\n"
     ]
    },
    {
     "name": "stdout",
     "output_type": "stream",
     "text": [
      "\n",
      "\n",
      "\u001b[1m> Entering new MultiPromptChain chain...\u001b[0m\n",
      "\n",
      "\n",
      "\u001b[1m> Entering new LLMRouterChain chain...\u001b[0m\n",
      "\n",
      "\u001b[1m> Finished chain.\u001b[0m\n",
      "physics: {'input': 'What is the speed of light?'}\n",
      "\n",
      "\u001b[1m> Entering new LLMChain chain...\u001b[0m\n",
      "Prompt after formatting:\n",
      "\u001b[32;1m\u001b[1;3mHuman: You are a very intelligent physics teacher.\n",
      "You are great at answering physics questions in a concise and easy-to-understand way.\n",
      "When you don't know the answer to a question, you admit that you don't know.\n",
      "\n",
      "Here is a question: What is the speed of light?\u001b[0m\n",
      "\n",
      "\u001b[1m> Finished chain.\u001b[0m\n",
      "\n",
      "\u001b[1m> Finished chain.\u001b[0m\n"
     ]
    },
    {
     "data": {
      "text/plain": [
       "{'input': 'What is the speed of light?',\n",
       " 'text': 'The speed of light in a vacuum is approximately 299,792,458 meters per second, or about 186,282 miles per second.'}"
      ]
     },
     "execution_count": 4,
     "metadata": {},
     "output_type": "execute_result"
    }
   ],
   "source": [
    "from langchain_openai import ChatOpenAI\n",
    "from langchain.prompts import ChatPromptTemplate, PromptTemplate\n",
    "from langchain.chains.llm import LLMChain\n",
    "from langchain.chains.router import MultiPromptChain\n",
    "from langchain.chains.router.llm_router import LLMRouterChain, RouterOutputParser\n",
    "from langchain.chains.router.multi_prompt_prompt import MULTI_PROMPT_ROUTER_TEMPLATE\n",
    "\n",
    "phys_template = ChatPromptTemplate.from_template(\"\"\"You are a very intelligent physics teacher.\n",
    "You are great at answering physics questions in a concise and easy-to-understand way.\n",
    "When you don't know the answer to a question, you admit that you don't know.\n",
    "\n",
    "Here is a question: {input}\"\"\")\n",
    "\n",
    "math_template = ChatPromptTemplate.from_template(\"\"\"You are a very good mathematician.\n",
    "You are great at answering math questions.\n",
    "You are so good because you can break down difficult problems into their component parts,\n",
    "answer the component parts, and then put them together\n",
    "to answer the larger question.\n",
    "\n",
    "Here is a question: {input}\"\"\")\n",
    "\n",
    "hist_template = ChatPromptTemplate.from_template(\"\"\"You are a very good historian.\n",
    "You have an excellent knowledge and understanding of people,\n",
    "events and contexts from a variety of historical periods.\n",
    "You have the ability to think, reflect, debate, discuss and\n",
    "evaluate the past. You have a respect for historical evidence\n",
    "and the ability to use it to support your explanations and judgements.\n",
    "\n",
    "Here is a question: {input}\"\"\")\n",
    "\n",
    "prompts_data = [\n",
    "    {\n",
    "        'name': 'physics',\n",
    "        'description': 'ideal for answers questions about physics',\n",
    "        'prompt_template': phys_template,\n",
    "    },\n",
    "    {\n",
    "        'name': 'mathematics',\n",
    "        'description': 'ideal for answers questions about mathematics',\n",
    "        'prompt_template': math_template,\n",
    "    },\n",
    "    {\n",
    "        'name': 'history',\n",
    "        'description': 'ideal for answers questions about history',\n",
    "        'prompt_template': hist_template\n",
    "    }\n",
    "]\n",
    "\n",
    "llm = ChatOpenAI(model=\"gpt-3.5-turbo\")\n",
    "\n",
    "destination_chains = {}\n",
    "\n",
    "for info in prompts_data:\n",
    "    chain = LLMChain(llm=llm, prompt=info['prompt_template'], verbose=True)\n",
    "    destination_chains[info['name']] = chain\n",
    "    \n",
    "destinations = [f'{p[\"name\"]}: {p[\"description\"]}' for p in prompts_data]\n",
    "\n",
    "router_template = MULTI_PROMPT_ROUTER_TEMPLATE.format(destinations=destinations)\n",
    "\n",
    "prompt_template = PromptTemplate(\n",
    "    template=router_template,\n",
    "    input_variables=['input'],\n",
    "    output_parser=RouterOutputParser()\n",
    ")\n",
    "\n",
    "router_chain = LLMRouterChain.from_llm(\n",
    "    llm=llm,\n",
    "    prompt=prompt_template,\n",
    "    verbose=True\n",
    ")\n",
    "\n",
    "# If no matching chains found, it falls back to the default chain\n",
    "default_prompt = ChatPromptTemplate.from_template('{input}')\n",
    "default_chain = LLMChain(llm=llm, prompt=default_prompt, verbose=True)\n",
    "\n",
    "chain = MultiPromptChain(\n",
    "    router_chain=router_chain,\n",
    "    destination_chains=destination_chains,\n",
    "    default_chain=default_chain,\n",
    "    verbose=True\n",
    ")\n",
    "\n",
    "chain.invoke({'input': 'What is the speed of light?'})"
   ]
  },
  {
   "cell_type": "code",
   "execution_count": 6,
   "metadata": {},
   "outputs": [
    {
     "name": "stdout",
     "output_type": "stream",
     "text": [
      "\n",
      "\n",
      "\u001b[1m> Entering new MultiPromptChain chain...\u001b[0m\n",
      "\n",
      "\n",
      "\u001b[1m> Entering new LLMRouterChain chain...\u001b[0m\n",
      "\n",
      "\u001b[1m> Finished chain.\u001b[0m\n",
      "history: {'input': 'What is the second industrial revolution?'}\n",
      "\n",
      "\u001b[1m> Entering new LLMChain chain...\u001b[0m\n",
      "Prompt after formatting:\n",
      "\u001b[32;1m\u001b[1;3mHuman: You are a very good historian.\n",
      "You have an excellent knowledge and understanding of people,\n",
      "events and contexts from a variety of historical periods.\n",
      "You have the ability to think, reflect, debate, discuss and\n",
      "evaluate the past. You have a respect for historical evidence\n",
      "and the ability to use it to support your explanations and judgements.\n",
      "\n",
      "Here is a question: What is the second industrial revolution?\u001b[0m\n",
      "\n",
      "\u001b[1m> Finished chain.\u001b[0m\n",
      "\n",
      "\u001b[1m> Finished chain.\u001b[0m\n"
     ]
    },
    {
     "data": {
      "text/plain": [
       "{'input': 'What is the second industrial revolution?',\n",
       " 'text': 'The Second Industrial Revolution, also known as the Technological Revolution, was a period of rapid industrial growth and innovation that took place in the late 19th and early 20th centuries. It was characterized by advancements in technology, such as the widespread use of electricity, the development of the telephone and telegraph, the invention of the light bulb, and the expansion of the railroad network.\\n\\nKey industries that flourished during this time included steel production, oil refining, and the manufacturing of automobiles and consumer goods. The Second Industrial Revolution also saw the rise of large corporations and the growth of urban centers as people moved from rural areas to cities in search of work.\\n\\nOverall, the Second Industrial Revolution transformed economies and societies around the world, leading to increased productivity, higher living standards, and significant changes in the way people lived and worked.'}"
      ]
     },
     "execution_count": 6,
     "metadata": {},
     "output_type": "execute_result"
    }
   ],
   "source": [
    "chain.invoke({'input': 'What is the second industrial revolution?'})"
   ]
  }
 ],
 "metadata": {
  "kernelspec": {
   "display_name": "Python 3",
   "language": "python",
   "name": "python3"
  },
  "language_info": {
   "codemirror_mode": {
    "name": "ipython",
    "version": 3
   },
   "file_extension": ".py",
   "mimetype": "text/x-python",
   "name": "python",
   "nbconvert_exporter": "python",
   "pygments_lexer": "ipython3",
   "version": "3.9.6"
  }
 },
 "nbformat": 4,
 "nbformat_minor": 2
}
