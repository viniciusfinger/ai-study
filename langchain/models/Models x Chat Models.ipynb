{
 "cells": [
  {
   "cell_type": "markdown",
   "metadata": {},
   "source": [
    "# Chat Models\n",
    "A chat model is a way to interact with LLM using a chat, sending messages in turns and maintaning context, like ChatGPT. "
   ]
  },
  {
   "cell_type": "markdown",
   "metadata": {},
   "source": [
    "### OpenAI class x ChatOpenAI\n",
    "OpenAI:\n",
    "- Use LLM models, like GPT-3, GPT-4, ...\n",
    "- Is made for general completion tasks, like text generation from a prompt or autocomplete\n",
    "- Used for direct tasks that don't depend on multiple interactions or conversational turns (chats)\n",
    "\n",
    "ChatOpenAI:\n",
    "- Use LLM Chat tuned models, like GPT-3.5-turbo and GPT-4-turbo\n",
    "- Make it easier to build conversations because it provides context for each iteration\n",
    "- Include Chatbots features, like message types (user, system, assistant), organizing the dialogue."
   ]
  },
  {
   "cell_type": "code",
   "execution_count": 5,
   "metadata": {},
   "outputs": [
    {
     "name": "stdout",
     "output_type": "stream",
     "text": [
      "AI, or artificial intelligence, refers to the simulation of human intelligence processes by machines, especially computer systems. These processes include learning (the acquisition of information and rules for using the information), reasoning (using rules to reach approximate or definite conclusions), and self-correction. AI technologies are used in various applications such as speech recognition, natural language processing, image recognition, and autonomous vehicles.\n",
      "{'token_usage': {'completion_tokens': 76, 'prompt_tokens': 32, 'total_tokens': 108, 'completion_tokens_details': {'reasoning_tokens': 0}}, 'model_name': 'gpt-3.5-turbo-0125', 'system_fingerprint': None, 'finish_reason': 'stop', 'logprobs': None}\n",
      "\n"
     ]
    }
   ],
   "source": [
    "from langchain_openai import ChatOpenAI\n",
    "from langchain_core.messages import HumanMessage, SystemMessage\n",
    "\n",
    "llm = ChatOpenAI(model='gpt-3.5-turbo')\n",
    "\n",
    "messages = [\n",
    "    SystemMessage(content=\"You are a IA specialist. You help with AI development and answer questions about AI.\"),\n",
    "    HumanMessage(content=\"What is ai?\"),\n",
    "]\n",
    "\n",
    "response = llm.invoke(messages) # The response type is AIMessage class\n",
    "\n",
    "print(response.content)\n",
    "print(response.response_metadata)"
   ]
  }
 ],
 "metadata": {
  "kernelspec": {
   "display_name": "Python 3",
   "language": "python",
   "name": "python3"
  },
  "language_info": {
   "codemirror_mode": {
    "name": "ipython",
    "version": 3
   },
   "file_extension": ".py",
   "mimetype": "text/x-python",
   "name": "python",
   "nbconvert_exporter": "python",
   "pygments_lexer": "ipython3",
   "version": "3.9.6"
  }
 },
 "nbformat": 4,
 "nbformat_minor": 2
}
