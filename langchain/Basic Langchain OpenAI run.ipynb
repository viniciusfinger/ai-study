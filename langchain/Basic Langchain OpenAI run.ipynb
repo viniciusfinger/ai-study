{
 "cells": [
  {
   "cell_type": "markdown",
   "metadata": {},
   "source": [
    "# Most simple call to OpenAI using LangChain"
   ]
  },
  {
   "cell_type": "code",
   "execution_count": 1,
   "metadata": {},
   "outputs": [
    {
     "name": "stdout",
     "output_type": "stream",
     "text": [
      "\n",
      "\n",
      "One of the earliest attempts at creating artificial intelligence dates back to the 1950s, when mathematician and computer scientist Alan Turing proposed the Turing Test. This test was designed to evaluate a machine's ability to exhibit intelligent behavior indistinguishable from that of a human.\n",
      "\n",
      "In the 1960s, computer scientist John McCarthy coined the term \"artificial intelligence\" and organized the first AI conference at Dartmouth College. This conference brought together computer experts to discuss the potential and challenges of creating intelligent machines.\n",
      "\n",
      "In the following decades, there were significant developments in AI, including the creation of expert systems – computer programs designed to mimic the decision-making abilities of human experts in a specific field. This led to the development of the first chatbot, ELIZA, in the 1960s, which could simulate a conversation with a human.\n",
      "\n",
      "In the 1970s and 1980s, AI research focused on developing more advanced algorithms and models, such as neural networks, which are designed to imitate the way the human brain processes information. This led to the development of expert systems for medical diagnosis, speech recognition, and other tasks.\n",
      "\n",
      "In the 1990s, AI research faced a setback as funding for AI projects decreased, and there was a general skepticism towards\n"
     ]
    }
   ],
   "source": [
    "from langchain_openai import OpenAI\n",
    "\n",
    "llm = OpenAI() # Load the default model gpt-3.5-turbo-instruct\n",
    "\n",
    "prompt = \"Tell a real history about artificial intelligence\"\n",
    "\n",
    "result = llm.invoke(prompt)\n",
    "\n",
    "print(result)"
   ]
  },
  {
   "cell_type": "markdown",
   "metadata": {},
   "source": [
    "It's possible receive the response from a stream chunk-by-chunk, similiar to ChatGPT responses:"
   ]
  },
  {
   "cell_type": "code",
   "execution_count": 2,
   "metadata": {},
   "outputs": [
    {
     "name": "stdout",
     "output_type": "stream",
     "text": [
      "\n",
      "\n",
      "The concept of artificial intelligence, or AI, has been around for centuries, but the modern history of AI can be traced back to the 1950s. In 1956, a group of scientists and mathematicians gathered at Dartmouth College in New Hampshire to discuss the possibility of creating machines that could think and learn like humans. This meeting is now known as the \"Dartmouth Conference\" and is considered the birthplace of AI.\n",
      "\n",
      "During the 1950s and 1960s, researchers made significant advancements in the field of AI. One of the key contributors was John McCarthy, who coined the term \"artificial intelligence\" and developed the programming language LISP, which is still used in AI research today.\n",
      "\n",
      "In 1957, Herbert Simon and Allen Newell created the Logic Theorist, the first AI program that could replicate human problem-solving abilities. This program was a breakthrough, and it showed that computers could be programmed to mimic human thinking processes.\n",
      "\n",
      "In the 1960s, researchers at MIT developed the first AI program capable of understanding and responding to natural language. This program, called ELIZA, was a chatbot that could simulate conversation by using pre-programmed responses based on keywords and patterns.\n",
      "\n",
      "The 1970s and "
     ]
    }
   ],
   "source": [
    "for chunk in llm.stream(prompt):\n",
    "    print(chunk, end=\"\")"
   ]
  },
  {
   "cell_type": "markdown",
   "metadata": {},
   "source": [
    "It's possible to pass multiple entries at once using a list:"
   ]
  },
  {
   "cell_type": "code",
   "execution_count": 4,
   "metadata": {},
   "outputs": [
    {
     "name": "stdout",
     "output_type": "stream",
     "text": [
      "\n",
      "\n",
      "Langchain is a decentralized blockchain platform that focuses on providing language-based services and applications. It uses smart contracts to facilitate transactions and interactions between users who speak different languages. This technology aims to break down language barriers and promote global communication and collaboration. Langchain also allows for the creation of language-specific tokens and supports multilingual content and applications. It is designed to be secure, scalable, and accessible to a wide range of users.\n",
      "\n",
      "\n",
      "There is no specific date for when the concept of a \"langchain\" was created. The term itself is not widely used or recognized, and it is unclear what it refers to. It is possible that someone may have used the term in the context of language learning or language teaching, but it is not a commonly used term in these fields. It is also possible that the term was used in a different context, such as a technology or business concept, but there is no information available on when this may have occurred. \n",
      "\n",
      "\n",
      "Langchain is a decentralized project and therefore does not have a central authority or individual responsible for its development or management. The community of developers, contributors, and users collectively contribute to the development, maintenance, and governance of the platform. However, the project was created by a group of developers led by founder and CEO, Zhang Heng. \n"
     ]
    }
   ],
   "source": [
    "prompts = [\n",
    "    \"What is langchain?\",\n",
    "    \"When langchain was created?\",\n",
    "    \"Who is responsible for langchain?\"\n",
    "]\n",
    "\n",
    "responses = llm.batch(prompts)\n",
    "\n",
    "for response in responses:\n",
    "    print(response)"
   ]
  }
 ],
 "metadata": {
  "kernelspec": {
   "display_name": "Python 3",
   "language": "python",
   "name": "python3"
  },
  "language_info": {
   "codemirror_mode": {
    "name": "ipython",
    "version": 3
   },
   "file_extension": ".py",
   "mimetype": "text/x-python",
   "name": "python",
   "nbconvert_exporter": "python",
   "pygments_lexer": "ipython3",
   "version": "3.9.6"
  }
 },
 "nbformat": 4,
 "nbformat_minor": 2
}
