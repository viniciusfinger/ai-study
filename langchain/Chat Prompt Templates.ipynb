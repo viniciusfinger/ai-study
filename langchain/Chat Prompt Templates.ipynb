{
 "cells": [
  {
   "cell_type": "markdown",
   "metadata": {},
   "source": [
    "# Chat Prompt Templates\n",
    "Templates to use in ChatPrompt-Models"
   ]
  },
  {
   "cell_type": "markdown",
   "metadata": {},
   "source": [
    "### Creating from template:"
   ]
  },
  {
   "cell_type": "code",
   "execution_count": 8,
   "metadata": {},
   "outputs": [
    {
     "data": {
      "text/plain": [
       "[HumanMessage(content='\\nThis is my question: Where is located Porto Alegre?\\n')]"
      ]
     },
     "execution_count": 8,
     "metadata": {},
     "output_type": "execute_result"
    }
   ],
   "source": [
    "from langchain.prompts import ChatPromptTemplate\n",
    "from langchain_openai.llms import OpenAI\n",
    "\n",
    "llm = OpenAI()\n",
    "\n",
    "chat_template = ChatPromptTemplate.from_template(\"\"\"\n",
    "This is my question: {question}\n",
    "\"\"\")\n",
    "\n",
    "chat_template.format_messages(question=\"Where is located Porto Alegre?\")"
   ]
  },
  {
   "cell_type": "markdown",
   "metadata": {},
   "source": [
    "### Creating from previous messages:"
   ]
  },
  {
   "cell_type": "code",
   "execution_count": 9,
   "metadata": {},
   "outputs": [
    {
     "data": {
      "text/plain": [
       "' \\nAI: Porto Alegre is located in the southern region of Brazil, on the eastern bank of the Guaíba River. Is there anything else you would like to know about the city?'"
      ]
     },
     "execution_count": 9,
     "metadata": {},
     "output_type": "execute_result"
    }
   ],
   "source": [
    "chat_template = ChatPromptTemplate.from_messages([\n",
    "    (\"system\", \"You're a helpful assistant and it's called {assistant_name}.\"),\n",
    "    (\"human\", \"Hello, how are you? \"),\n",
    "    (\"ai\", \"I'm fine, thank you. How can I help you today?\"),\n",
    "    (\"human\", \"{question}\")\n",
    "])\n",
    "\n",
    "prompt = chat_template.format_messages(assistant_name=\"IASmim\",question=\"Where is located Porto Alegre?\")\n",
    "\n",
    "llm.invoke(prompt)"
   ]
  }
 ],
 "metadata": {
  "kernelspec": {
   "display_name": "Python 3",
   "language": "python",
   "name": "python3"
  },
  "language_info": {
   "codemirror_mode": {
    "name": "ipython",
    "version": 3
   },
   "file_extension": ".py",
   "mimetype": "text/x-python",
   "name": "python",
   "nbconvert_exporter": "python",
   "pygments_lexer": "ipython3",
   "version": "3.9.6"
  }
 },
 "nbformat": 4,
 "nbformat_minor": 2
}
