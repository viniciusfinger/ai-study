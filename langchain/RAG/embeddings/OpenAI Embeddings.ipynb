{
 "cells": [
  {
   "cell_type": "markdown",
   "metadata": {},
   "source": [
    "# OpenAI Embeddings\n",
    "É pago, mas não é muito caro."
   ]
  },
  {
   "cell_type": "code",
   "execution_count": 9,
   "metadata": {},
   "outputs": [
    {
     "name": "stdout",
     "output_type": "stream",
     "text": [
      "1.0 | 0.83 | 0.82 | \n",
      "0.83 | 1.0 | 0.83 | \n",
      "0.82 | 0.83 | 1.0 | \n",
      "\n",
      "Comparing embedded query with embedded docs:\n",
      "0.78 | 0.81 | 0.88 | "
     ]
    }
   ],
   "source": [
    "from langchain_openai import OpenAIEmbeddings\n",
    "import numpy as np\n",
    "\n",
    "embedding_model = OpenAIEmbeddings(model=\"text-embedding-ada-002\")\n",
    "\n",
    "# Transforma para o vetor de embeddings\n",
    "embeddings = embedding_model.embed_documents(\n",
    "    [\n",
    "        \"Eu gosto de cachorros\", \n",
    "        \"Meu nome é Vinicius\", \n",
    "        \"Eu nasci em Porto Alegre\"\n",
    "    ]\n",
    ")\n",
    "\n",
    "# Compara os embeddings para ver quais são mais parecidos\n",
    "for i in range(len(embeddings)):\n",
    "    for j in range(len(embeddings)):\n",
    "        print(round(np.dot(embeddings[i], embeddings[j]), 2), end=' | ')\n",
    "    print()\n",
    "\n",
    "query_embedded = embedding_model.embed_query(\"Onde eu nasci?\")\n",
    "\n",
    "# Compara os embeddings para ver quais são mais parecidos\n",
    "print(\"\\nComparing embedded query with embedded docs:\")\n",
    "for i in range(len(embeddings)):\n",
    "    print(round(np.dot(query_embedded, embeddings[i]), 2), end=' | ')"
   ]
  }
 ],
 "metadata": {
  "kernelspec": {
   "display_name": "Python 3",
   "language": "python",
   "name": "python3"
  },
  "language_info": {
   "codemirror_mode": {
    "name": "ipython",
    "version": 3
   },
   "file_extension": ".py",
   "mimetype": "text/x-python",
   "name": "python",
   "nbconvert_exporter": "python",
   "pygments_lexer": "ipython3",
   "version": "3.9.6"
  }
 },
 "nbformat": 4,
 "nbformat_minor": 2
}
