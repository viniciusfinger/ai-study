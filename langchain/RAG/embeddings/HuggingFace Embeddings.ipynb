{
 "cells": [
  {
   "cell_type": "markdown",
   "metadata": {},
   "source": [
    "# HuggingFace Embeddings\n",
    "Tem vários modelos de embedding gratuitos no huggingface na categoria de \"sentence similarity\"\n",
    "https://huggingface.co/models?pipeline_tag=sentence-similarity&sort=downloads"
   ]
  },
  {
   "cell_type": "code",
   "execution_count": 1,
   "metadata": {},
   "outputs": [
    {
     "name": "stderr",
     "output_type": "stream",
     "text": [
      "/Users/viniciusfinger/Library/Python/3.9/lib/python/site-packages/urllib3/__init__.py:35: NotOpenSSLWarning: urllib3 v2 only supports OpenSSL 1.1.1+, currently the 'ssl' module is compiled with 'LibreSSL 2.8.3'. See: https://github.com/urllib3/urllib3/issues/3020\n",
      "  warnings.warn(\n",
      "/Users/viniciusfinger/Library/Python/3.9/lib/python/site-packages/tqdm/auto.py:21: TqdmWarning: IProgress not found. Please update jupyter and ipywidgets. See https://ipywidgets.readthedocs.io/en/stable/user_install.html\n",
      "  from .autonotebook import tqdm as notebook_tqdm\n"
     ]
    }
   ],
   "source": [
    "from langchain_community.embeddings.huggingface import HuggingFaceBgeEmbeddings\n",
    "\n",
    "model_name = 'sentence-transformers/all-MiniLM-L6-v2'\n",
    "\n",
    "embedding_model = HuggingFaceBgeEmbeddings(model_name=model_name)"
   ]
  },
  {
   "cell_type": "code",
   "execution_count": 2,
   "metadata": {},
   "outputs": [
    {
     "name": "stdout",
     "output_type": "stream",
     "text": [
      "1.0 | 0.41 | 0.62 | \n",
      "0.41 | 1.0 | 0.5 | \n",
      "0.62 | 0.5 | 1.0 | \n",
      "\n",
      "Comparing embedded query with embedded docs:\n",
      "0.41 | 0.4 | 0.58 | "
     ]
    }
   ],
   "source": [
    "import numpy as np\n",
    "\n",
    "# Transforma para o vetor de embeddings\n",
    "embeddings = embedding_model.embed_documents(\n",
    "    [\n",
    "        \"Eu gosto de cachorros\", \n",
    "        \"Meu nome é Vinicius\", \n",
    "        \"Eu nasci em Porto Alegre\"\n",
    "    ]\n",
    ")\n",
    "\n",
    "# Compara os embeddings para ver quais são mais parecidos\n",
    "for i in range(len(embeddings)):\n",
    "    for j in range(len(embeddings)):\n",
    "        print(round(np.dot(embeddings[i], embeddings[j]), 2), end=' | ')\n",
    "    print()\n",
    "\n",
    "query_embedded = embedding_model.embed_query(\"Onde eu nasci?\")\n",
    "\n",
    "# Compara os embeddings para ver quais são mais parecidos\n",
    "print(\"\\nComparing embedded query with embedded docs:\")\n",
    "for i in range(len(embeddings)):\n",
    "    print(round(np.dot(query_embedded, embeddings[i]), 2), end=' | ')"
   ]
  }
 ],
 "metadata": {
  "kernelspec": {
   "display_name": "Python 3",
   "language": "python",
   "name": "python3"
  },
  "language_info": {
   "codemirror_mode": {
    "name": "ipython",
    "version": 3
   },
   "file_extension": ".py",
   "mimetype": "text/x-python",
   "name": "python",
   "nbconvert_exporter": "python",
   "pygments_lexer": "ipython3",
   "version": "3.9.6"
  }
 },
 "nbformat": 4,
 "nbformat_minor": 2
}
