{
 "cells": [
  {
   "cell_type": "code",
   "execution_count": 3,
   "metadata": {},
   "outputs": [
    {
     "data": {
      "text/plain": [
       "['\\nO “Hello World” é um programa simples, mas fundamental, que exibe a mensagem “Olá, Mundo” na tela de um dispositivo. Este conceito é universal',\n",
       " 'ste conceito é universal na programação e pode ser implementado em praticamente qualquer linguagem, como Python, Java, C, C++ e muitas outras. Para muitos des',\n",
       " 'a muitos desenvolvedores, este é o primeiro contato com uma nova linguagem.\\nEsse programa serve como uma introdução ao desenvolvimento, permitindo',\n",
       " 'o, permitindo que os iniciantes verifiquem se o ambiente de programação está corretamente configurado e se a sintaxe básica do “Hello World” est',\n",
       " 'Hello World” está sendo utilizada de forma adequada. Em essência, é um grande passo que prepara o caminho para a programação mais avançada.\\n']"
      ]
     },
     "execution_count": 3,
     "metadata": {},
     "output_type": "execute_result"
    }
   ],
   "source": [
    "from langchain_text_splitters import TokenTextSplitter\n",
    "\n",
    "splitter = TokenTextSplitter(\n",
    "    chunk_size=50, # Número de tokens, Tem que testar qual o chunk size ideal\n",
    "    chunk_overlap=5, # O ideal é 10% do chunk size\n",
    ")\n",
    "\n",
    "text = \"\"\"\n",
    "O “Hello World” é um programa simples, mas fundamental, que exibe a mensagem “Olá, Mundo” na tela de um dispositivo. Este conceito é universal na programação e pode ser implementado em praticamente qualquer linguagem, como Python, Java, C, C++ e muitas outras. Para muitos desenvolvedores, este é o primeiro contato com uma nova linguagem.\n",
    "Esse programa serve como uma introdução ao desenvolvimento, permitindo que os iniciantes verifiquem se o ambiente de programação está corretamente configurado e se a sintaxe básica do “Hello World” está sendo utilizada de forma adequada. Em essência, é um grande passo que prepara o caminho para a programação mais avançada.\n",
    "\"\"\"\n",
    "\n",
    "text_splitted = splitter.split_text(text)\n",
    "\n",
    "text_splitted"
   ]
  }
 ],
 "metadata": {
  "kernelspec": {
   "display_name": "Python 3",
   "language": "python",
   "name": "python3"
  },
  "language_info": {
   "codemirror_mode": {
    "name": "ipython",
    "version": 3
   },
   "file_extension": ".py",
   "mimetype": "text/x-python",
   "name": "python",
   "nbconvert_exporter": "python",
   "pygments_lexer": "ipython3",
   "version": "3.9.6"
  }
 },
 "nbformat": 4,
 "nbformat_minor": 2
}
