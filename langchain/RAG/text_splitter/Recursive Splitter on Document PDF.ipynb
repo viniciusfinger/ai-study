{
 "cells": [
  {
   "cell_type": "code",
   "execution_count": 2,
   "metadata": {},
   "outputs": [
    {
     "data": {
      "text/plain": [
       "1123"
      ]
     },
     "execution_count": 2,
     "metadata": {},
     "output_type": "execute_result"
    }
   ],
   "source": [
    "from langchain_text_splitters import RecursiveCharacterTextSplitter\n",
    "from langchain_community.document_loaders.pdf import PyPDFLoader\n",
    "\n",
    "path = '../documents/guia_alimentar_populacao_brasileira.pdf'\n",
    "loader = PyPDFLoader(path)\n",
    "\n",
    "pdf_pages = loader.load()\n",
    "\n",
    "splitter = RecursiveCharacterTextSplitter(\n",
    "    chunk_size=300, \n",
    "    chunk_overlap=30,\n",
    "    separators=[\".\", \",\", \";\", \":\", \"!\", \"?\", \"\\n\", \" \", \"\"], \n",
    ")\n",
    "\n",
    "splits = splitter.split_documents(pdf_pages)\n",
    "\n",
    "splits\n",
    "len(splits)"
   ]
  }
 ],
 "metadata": {
  "kernelspec": {
   "display_name": "Python 3",
   "language": "python",
   "name": "python3"
  },
  "language_info": {
   "codemirror_mode": {
    "name": "ipython",
    "version": 3
   },
   "file_extension": ".py",
   "mimetype": "text/x-python",
   "name": "python",
   "nbconvert_exporter": "python",
   "pygments_lexer": "ipython3",
   "version": "3.9.6"
  }
 },
 "nbformat": 4,
 "nbformat_minor": 2
}
