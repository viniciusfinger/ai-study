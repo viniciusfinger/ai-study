{
 "cells": [
  {
   "cell_type": "markdown",
   "metadata": {},
   "source": [
    "# Character Text Splitting\n",
    "Faz o split por quantidade de caracteres"
   ]
  },
  {
   "cell_type": "code",
   "execution_count": 10,
   "metadata": {},
   "outputs": [
    {
     "data": {
      "text/plain": [
       "['abcdefghijklmnopqrstuvwxyzabcd',\n",
       " 'efghijklmnopqrstuvwxyzabcdefgh',\n",
       " 'ijklmnopqrstuvwxyzabcdefghijkl',\n",
       " 'mnopqrstuvwxyzabcdefghijklmnop',\n",
       " 'qrstuvwxyz']"
      ]
     },
     "execution_count": 10,
     "metadata": {},
     "output_type": "execute_result"
    }
   ],
   "source": [
    "from langchain_text_splitters import CharacterTextSplitter\n",
    "import string\n",
    "\n",
    "splitter = CharacterTextSplitter(\n",
    "    chunk_size=30, # split text into chunks of 30 characters\n",
    "    chunk_overlap=0, # no overlap between chunks\n",
    "    separator='' # Default is \"/n/n\", only do split when have two line breaks. Changing to '' allow split wherever.\n",
    ")\n",
    "\n",
    "text = string.ascii_lowercase * 5\n",
    "\n",
    "text_splitted = splitter.split_text(text)\n",
    "\n",
    "text_splitted"
   ]
  }
 ],
 "metadata": {
  "kernelspec": {
   "display_name": "Python 3",
   "language": "python",
   "name": "python3"
  },
  "language_info": {
   "codemirror_mode": {
    "name": "ipython",
    "version": 3
   },
   "file_extension": ".py",
   "mimetype": "text/x-python",
   "name": "python",
   "nbconvert_exporter": "python",
   "pygments_lexer": "ipython3",
   "version": "3.9.6"
  }
 },
 "nbformat": 4,
 "nbformat_minor": 2
}
