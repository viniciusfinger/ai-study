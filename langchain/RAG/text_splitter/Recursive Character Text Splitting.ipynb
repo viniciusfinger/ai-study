{
 "cells": [
  {
   "cell_type": "markdown",
   "metadata": {},
   "source": [
    "# Recursive Character Text Splitting\n",
    "Tem uma ordem de prioridade de ondem tentar quebrar o texto"
   ]
  },
  {
   "cell_type": "code",
   "execution_count": 6,
   "metadata": {},
   "outputs": [
    {
     "data": {
      "text/plain": [
       "['O “Hello World” é um programa simples, mas fundamental, que exibe a mensagem “Olá, Mundo” na tela de um dispositivo. Este conceito é universal na programação e pode ser implementado em praticamente qualquer linguagem, como Python, Java, C, C++ e muitas outras',\n",
       " '. Para muitos desenvolvedores, este é o primeiro contato com uma nova linguagem',\n",
       " '.\\nEsse programa serve como uma introdução ao desenvolvimento, permitindo que os iniciantes verifiquem se o ambiente de programação está corretamente configurado e se a sintaxe básica do “Hello World” está sendo utilizada de forma adequada',\n",
       " '. Em essência, é um grande passo que prepara o caminho para a programação mais avançada.']"
      ]
     },
     "execution_count": 6,
     "metadata": {},
     "output_type": "execute_result"
    }
   ],
   "source": [
    "from langchain_text_splitters import RecursiveCharacterTextSplitter\n",
    "\n",
    "splitter = RecursiveCharacterTextSplitter(\n",
    "    chunk_size=300, # Tem que testar qual o chunk size ideal\n",
    "    chunk_overlap=30, # O ideal é 10% do chunk size\n",
    "    separators=[\".\", \",\", \";\", \":\", \"!\", \"?\", \"\\n\", \" \", \"\"], # Primeiro tenta por ponto, depois por vírgula, etc.\n",
    "    # Tem que brincar e ver o que ficar melhor. No geral, é bom usar [\"\\n\\n\", \"\\n\", \" \", \"\"]\n",
    ")\n",
    "\n",
    "text = \"\"\"\n",
    "O “Hello World” é um programa simples, mas fundamental, que exibe a mensagem “Olá, Mundo” na tela de um dispositivo. Este conceito é universal na programação e pode ser implementado em praticamente qualquer linguagem, como Python, Java, C, C++ e muitas outras. Para muitos desenvolvedores, este é o primeiro contato com uma nova linguagem.\n",
    "Esse programa serve como uma introdução ao desenvolvimento, permitindo que os iniciantes verifiquem se o ambiente de programação está corretamente configurado e se a sintaxe básica do “Hello World” está sendo utilizada de forma adequada. Em essência, é um grande passo que prepara o caminho para a programação mais avançada.\n",
    "\"\"\"\n",
    "\n",
    "text_splitted = splitter.split_text(text)\n",
    "\n",
    "text_splitted"
   ]
  }
 ],
 "metadata": {
  "kernelspec": {
   "display_name": "Python 3",
   "language": "python",
   "name": "python3"
  },
  "language_info": {
   "codemirror_mode": {
    "name": "ipython",
    "version": 3
   },
   "file_extension": ".py",
   "mimetype": "text/x-python",
   "name": "python",
   "nbconvert_exporter": "python",
   "pygments_lexer": "ipython3",
   "version": "3.9.6"
  }
 },
 "nbformat": 4,
 "nbformat_minor": 2
}
