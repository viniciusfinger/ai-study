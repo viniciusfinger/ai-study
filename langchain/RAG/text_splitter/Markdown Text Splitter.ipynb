{
 "cells": [
  {
   "cell_type": "code",
   "execution_count": 1,
   "metadata": {},
   "outputs": [
    {
     "name": "stderr",
     "output_type": "stream",
     "text": [
      "/Users/viniciusfinger/Library/Python/3.9/lib/python/site-packages/urllib3/__init__.py:35: NotOpenSSLWarning: urllib3 v2 only supports OpenSSL 1.1.1+, currently the 'ssl' module is compiled with 'LibreSSL 2.8.3'. See: https://github.com/urllib3/urllib3/issues/3020\n",
      "  warnings.warn(\n"
     ]
    },
    {
     "data": {
      "text/plain": [
       "[Document(page_content='Texto capítulo 1 e mais e mais texto.\\nContinuamos no capítulo 1!', metadata={'Header 1': 'Título do Markdown de exemplo', 'Header 2': 'Capítulo 1'}),\n",
       " Document(page_content='Texto capítulo 2 e mais e mais texto.\\nContinuamos no capítulo 2!', metadata={'Header 1': 'Título do Markdown de exemplo', 'Header 2': 'Capítulo 2'}),\n",
       " Document(page_content='Texto capítulo 3 e mais e mais texto.\\nContinuamos no capítulo 3!', metadata={'Header 1': 'Título do Markdown de exemplo', 'Header 2': 'Capítulo 3', 'Header 3': 'Seção 3.1'})]"
      ]
     },
     "execution_count": 1,
     "metadata": {},
     "output_type": "execute_result"
    }
   ],
   "source": [
    "from langchain_text_splitters import MarkdownHeaderTextSplitter\n",
    "\n",
    "\n",
    "text = '''# Título do Markdown de exemplo\n",
    "## Capítulo 1\n",
    "Texto capítulo 1 e mais e mais texto.\n",
    "Continuamos no capítulo 1!\n",
    "## Capítulo 2\n",
    "Texto capítulo 2 e mais e mais texto.\n",
    "Continuamos no capítulo 2!\n",
    "## Capítulo 3\n",
    "### Seção 3.1\n",
    "Texto capítulo 3 e mais e mais texto.\n",
    "Continuamos no capítulo 3!\n",
    "'''\n",
    "\n",
    "headers_to_split = [\n",
    "    ('#', 'Header 1'),\n",
    "    ('##', 'Header 2'),\n",
    "    ('###', 'Header 3'),\n",
    "]\n",
    "\n",
    "splitter = MarkdownHeaderTextSplitter(\n",
    "    headers_to_split_on=headers_to_split\n",
    ")\n",
    "\n",
    "\n",
    "text_splitted = splitter.split_text(text)\n",
    "\n",
    "text_splitted"
   ]
  }
 ],
 "metadata": {
  "kernelspec": {
   "display_name": "Python 3",
   "language": "python",
   "name": "python3"
  },
  "language_info": {
   "codemirror_mode": {
    "name": "ipython",
    "version": 3
   },
   "file_extension": ".py",
   "mimetype": "text/x-python",
   "name": "python",
   "nbconvert_exporter": "python",
   "pygments_lexer": "ipython3",
   "version": "3.9.6"
  }
 },
 "nbformat": 4,
 "nbformat_minor": 2
}
