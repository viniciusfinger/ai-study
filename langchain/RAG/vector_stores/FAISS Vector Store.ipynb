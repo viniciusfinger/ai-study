{
 "cells": [
  {
   "cell_type": "markdown",
   "metadata": {},
   "source": [
    "# Facebook AI Similarity Search\n",
    "Vector Store do Facebook"
   ]
  },
  {
   "cell_type": "code",
   "execution_count": 8,
   "metadata": {},
   "outputs": [],
   "source": [
    "from langchain_community.document_loaders.pdf import PyPDFLoader\n",
    "\n",
    "path = '../documents/guia_alimentar_populacao_brasileira.pdf'\n",
    "loader = PyPDFLoader(path)\n",
    "\n",
    "pdf_pages = loader.load()"
   ]
  },
  {
   "cell_type": "markdown",
   "metadata": {},
   "source": [
    "### Faz splitting do PDF:"
   ]
  },
  {
   "cell_type": "code",
   "execution_count": 9,
   "metadata": {},
   "outputs": [],
   "source": [
    "from langchain_text_splitters import RecursiveCharacterTextSplitter\n",
    "\n",
    "splitter = RecursiveCharacterTextSplitter(\n",
    "    chunk_size=700,\n",
    "    chunk_overlap=70,\n",
    "    separators=[\"\\n\\n\", \"\\n\", \".\", \" \", \"\"]\n",
    ")\n",
    "\n",
    "documents = splitter.split_documents(pdf_pages)"
   ]
  },
  {
   "cell_type": "markdown",
   "metadata": {},
   "source": [
    "### Criando a Vector Store persistida em arquivo"
   ]
  },
  {
   "cell_type": "code",
   "execution_count": 10,
   "metadata": {},
   "outputs": [],
   "source": [
    "from langchain_openai import OpenAIEmbeddings\n",
    "from langchain_community.vectorstores.faiss import FAISS\n",
    "\n",
    "embedding_model = OpenAIEmbeddings(model=\"text-embedding-ada-002\")\n",
    "\n",
    "chroma_location = \"../documents/chroma_vectorstore/\"\n",
    "\n",
    "vector_store = FAISS.from_documents(\n",
    "    documents=documents,\n",
    "    embedding=embedding_model\n",
    ")"
   ]
  },
  {
   "cell_type": "code",
   "execution_count": 12,
   "metadata": {},
   "outputs": [
    {
     "name": "stdout",
     "output_type": "stream",
     "text": [
      "71 70     GUIA ALIMENTAR PARA A POPULAÇÃO BRASILEIRA\n",
      "GrUPo das raízes e tUBérCULos\n",
      "este grupo inclui a mandioca, também \n",
      "conhecida como macaxeira ou aipim, batata ou batata-inglesa, batata-doce, batata-baroa ou mandioquinha, cará e inhame.\n",
      "raízes e tubérculos são alimentos muito \n",
      "versáteis, podendo ser feitos cozidos, assados, ensopados ou na forma de purês. são frequentemente consumidos pelos brasileiros no almoço e no jantar, junto com feijão e arroz, legumes e carnes. em algumas regiões do Brasil, a mandioca e a batata-doce são consumidas no café da manhã como substitutos do pão. a mandioca, em particular, também é usada no preparo de doces caseiros como pudins e bolos.\n",
      "======== {'source': '../documents/guia_alimentar_populacao_brasileira.pdf', 'page': 71} \n",
      "\n",
      "Sopa de legumes, farinha de mandioca e açaíArroz, feijão, fígado bovino e abobrinha refogadaSalada de folhas, arroz, feijão, ovo e maçã\n",
      "Salada de folhas, macarrão e galeto\n",
      "======== {'source': '../documents/guia_alimentar_populacao_brasileira.pdf', 'page': 62} \n",
      "\n",
      "Suco de laranja natural, pão francês com manteiga e mamãoCafé com leite, cuscuz e manga\n",
      "======== {'source': '../documents/guia_alimentar_populacao_brasileira.pdf', 'page': 58} \n",
      "\n",
      "Esses dois livros discorrem sobre a cozinha brasileira. o livro de Câmara cascudo, editado pela primeira vez em 1967, é possivelmente o mais importante documento a retratar a história da cozinha brasileira, suas origens indígenas, africanas e portuguesas e a influência das migrações europeias mais recentes. Além do registro meticuloso das receitas e pratos típicos da cozinha brasileira, com seus sabores, cores e cheiros, o livro aborda os elementos sociais que permeiam essa cozinha como a simbologia dos alimentos, as características das refeições, o compartilhamento e os modos à mesa\n",
      "======== {'source': '../documents/guia_alimentar_populacao_brasileira.pdf', 'page': 138} \n",
      "\n",
      "a mandioca consumida na forma de farinha \n",
      "é acompanhamento frequente de peixes, legumes, açaí e vários outros alimentos. a  \n",
      "farinha de mandioca também é usada como ingrediente de receitas de pirão, cuscuz, tutu, feijão-tropeiro e farofas. nas regiões norte e nordeste, substitui com frequência o arroz na mistura com o feijão.\n",
      "Mandioca cozida com \n",
      "cebolinha e/ou salsinhaPurê de batata-doce\n",
      "Batata inglesa ao forno com ervas\n",
      "Batata assada  \n",
      "com alecrim\n",
      "======== {'source': '../documents/guia_alimentar_populacao_brasileira.pdf', 'page': 71} \n",
      "\n"
     ]
    }
   ],
   "source": [
    "question = \"O que fala sobre macaxeira?\"\n",
    "\n",
    "docs = vector_store.similarity_search(question, k=5)\n",
    "\n",
    "for doc in docs:\n",
    "    print(doc.page_content)\n",
    "    print(f'======== {doc.metadata} \\n')"
   ]
  },
  {
   "cell_type": "markdown",
   "metadata": {},
   "source": [
    "### Salvando local FAISS"
   ]
  },
  {
   "cell_type": "code",
   "execution_count": 13,
   "metadata": {},
   "outputs": [],
   "source": [
    "vector_store.save_local(\"../documents/faiss_vectorstore/\")"
   ]
  },
  {
   "cell_type": "markdown",
   "metadata": {},
   "source": [
    "### Carregando de arquivo"
   ]
  },
  {
   "cell_type": "code",
   "execution_count": 16,
   "metadata": {},
   "outputs": [],
   "source": [
    "vector_store = FAISS.load_local(\n",
    "    \"../documents/faiss_vectorstore/\", \n",
    "    embeddings=embedding_model, \n",
    "    allow_dangerous_deserialization=True\n",
    ")"
   ]
  }
 ],
 "metadata": {
  "kernelspec": {
   "display_name": "Python 3",
   "language": "python",
   "name": "python3"
  },
  "language_info": {
   "codemirror_mode": {
    "name": "ipython",
    "version": 3
   },
   "file_extension": ".py",
   "mimetype": "text/x-python",
   "name": "python",
   "nbconvert_exporter": "python",
   "pygments_lexer": "ipython3",
   "version": "3.9.6"
  }
 },
 "nbformat": 4,
 "nbformat_minor": 2
}
