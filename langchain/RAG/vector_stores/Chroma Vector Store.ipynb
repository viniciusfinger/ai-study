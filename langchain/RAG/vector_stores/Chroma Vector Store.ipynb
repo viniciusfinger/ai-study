{
 "cells": [
  {
   "cell_type": "code",
   "execution_count": 9,
   "metadata": {},
   "outputs": [],
   "source": [
    "from langchain_community.document_loaders.pdf import PyPDFLoader\n",
    "\n",
    "path = '../documents/guia_alimentar_populacao_brasileira.pdf'\n",
    "loader = PyPDFLoader(path)\n",
    "\n",
    "pdf_pages = loader.load()"
   ]
  },
  {
   "cell_type": "markdown",
   "metadata": {},
   "source": [
    "### Faz splitting do PDF:"
   ]
  },
  {
   "cell_type": "code",
   "execution_count": 16,
   "metadata": {},
   "outputs": [],
   "source": [
    "from langchain_text_splitters import RecursiveCharacterTextSplitter\n",
    "\n",
    "splitter = RecursiveCharacterTextSplitter(\n",
    "    chunk_size=700,\n",
    "    chunk_overlap=70,\n",
    "    separators=[\"\\n\\n\", \"\\n\", \".\", \" \", \"\"]\n",
    ")\n",
    "\n",
    "documents = splitter.split_documents(pdf_pages)"
   ]
  },
  {
   "cell_type": "markdown",
   "metadata": {},
   "source": [
    "### Criando a Vector Store persistida em arquivo"
   ]
  },
  {
   "cell_type": "code",
   "execution_count": 17,
   "metadata": {},
   "outputs": [
    {
     "name": "stdout",
     "output_type": "stream",
     "text": [
      "1839\n"
     ]
    }
   ],
   "source": [
    "from langchain_openai import OpenAIEmbeddings\n",
    "from langchain_chroma import Chroma\n",
    "\n",
    "embedding_model = OpenAIEmbeddings(model=\"text-embedding-ada-002\")\n",
    "\n",
    "chroma_location = \"../documents/chroma_vectorstore/\"\n",
    "\n",
    "vector_store = Chroma.from_documents(\n",
    "    documents=documents,\n",
    "    embedding=embedding_model,\n",
    "    persist_directory=chroma_location\n",
    ")\n",
    "\n",
    "# Printa quantidade de documentos\n",
    "print(vector_store._collection.count())\n"
   ]
  },
  {
   "cell_type": "markdown",
   "metadata": {},
   "source": [
    "### Importando a Vector Store do Disco"
   ]
  },
  {
   "cell_type": "code",
   "execution_count": 19,
   "metadata": {},
   "outputs": [
    {
     "name": "stdout",
     "output_type": "stream",
     "text": [
      "arroz\n",
      "o arroz é o principal representante do grupo dos cereais no Brasil. Como mencionado, o consumo mais frequente é na mistura com o feijão. mas, sendo um alimento extremamente versátil, é também consumido em preparações com legumes, verduras, ovos e carnes, como em vários tipos de risoto, arroz à grega, arroz de cuxá, arroz carreteiro, galinhada e maria izabel. o  \n",
      "arroz também é ingrediente de doces tradicionais brasileiros como o arroz-doce ou arroz de leite.\n",
      "======== {'page': 68, 'source': '../documents/guia_alimentar_populacao_brasileira.pdf'} \n",
      "\n",
      "arroz\n",
      "o arroz é o principal representante do grupo dos cereais no Brasil. Como mencionado, o consumo mais frequente é na mistura com o feijão. mas, sendo um alimento extremamente versátil, é também consumido em preparações com legumes, verduras, ovos e carnes, como em vários tipos de risoto, arroz à grega, arroz de cuxá, arroz carreteiro, galinhada e maria izabel. o  \n",
      "arroz também é ingrediente de doces tradicionais brasileiros como o arroz-doce ou arroz de leite.\n",
      "======== {'page': 68, 'source': '../documents/guia_alimentar_populacao_brasileira.pdf'} \n",
      "\n",
      "arroz, milho, trigo e todos os \n",
      "cereais são fontes importantes \n",
      "de carboidratos, fibras, vitaminas (principalmente do complexo B) e minerais. Combinados ao \n",
      "feijão ou outra leguminosa, os \n",
      "cereais constituem também \n",
      "fonte de proteína de excelente qualidade.\n",
      "Cereais polidos excessivamente, \n",
      "como o arroz branco e os grãos de trigo usados na confecção \n",
      "da maioria das farinhas de trigo, \n",
      "apresentam menor quantidade de fibras e micronutrientes. \n",
      "Por esta razão, versões menos \n",
      "processadas desses alimentos devem ser preferidas, como o \n",
      "arroz integral e a farinha de trigo \n",
      "integral. o arroz parboilizado \n",
      "(descascado e polido após \n",
      "permanecer imerso em água)\n",
      "======== {'page': 70, 'source': '../documents/guia_alimentar_populacao_brasileira.pdf'} \n",
      "\n",
      "63 62\n",
      "MINISTÉRIO DA SAÚDEJantar\n",
      "aqui apresentamos a composição do jantar de oito brasileiros \n",
      "selecionados entre aqueles que baseiam sua alimentação em alimentos in natura ou minimamente processados.\n",
      "repetindo a situação encontrada no almoço, a combinação de feijão com \n",
      "arroz é encontrada na grande maioria das refeições do jantar. \n",
      "em um dos exemplos, o feijão com arroz é substituído pela farinha de \n",
      "mandioca com açaí e, em outro, por uma preparação de macarrão, neste caso servida com frango. \n",
      "Legumes e verduras aparecem em todas as refeições, por vezes crus, na \n",
      "forma de saladas, cozidos ou refogados acompanhando o feijão com o arroz e, ainda, utilizados no preparo de sopas.\n",
      "======== {'page': 62, 'source': '../documents/guia_alimentar_populacao_brasileira.pdf'} \n",
      "\n",
      "cereais constituem também \n",
      "fonte de proteína de excelente qualidade.\n",
      "Cereais polidos excessivamente, \n",
      "como o arroz branco e os grãos de trigo usados na confecção \n",
      "da maioria das farinhas de trigo, \n",
      "apresentam menor quantidade de fibras e micronutrientes. \n",
      "Por esta razão, versões menos \n",
      "processadas desses alimentos devem ser preferidas, como o \n",
      "arroz integral e a farinha de trigo \n",
      "integral. o arroz parboilizado \n",
      "(descascado e polido após \n",
      "permanecer imerso em água)\n",
      "======== {'page': 70, 'source': '../documents/guia_alimentar_populacao_brasileira.pdf'} \n",
      "\n"
     ]
    }
   ],
   "source": [
    "vector_store = Chroma(\n",
    "    persist_directory=chroma_location,\n",
    "    embedding_function=embedding_model\n",
    ")\n",
    "\n",
    "question = \"O que fala sobre arroz?\"\n",
    "\n",
    "docs = vector_store.similarity_search(question, k=5) # k=5 para retornar os 5 documentos mais similares\n",
    "\n",
    "for doc in docs:\n",
    "    print(doc.page_content)\n",
    "    print(f'======== {doc.metadata} \\n')\n"
   ]
  }
 ],
 "metadata": {
  "kernelspec": {
   "display_name": "Python 3",
   "language": "python",
   "name": "python3"
  },
  "language_info": {
   "codemirror_mode": {
    "name": "ipython",
    "version": 3
   },
   "file_extension": ".py",
   "mimetype": "text/x-python",
   "name": "python",
   "nbconvert_exporter": "python",
   "pygments_lexer": "ipython3",
   "version": "3.9.6"
  }
 },
 "nbformat": 4,
 "nbformat_minor": 2
}
