{
 "cells": [
  {
   "cell_type": "markdown",
   "metadata": {},
   "source": [
    "# Maximal Marginal Relevance\n",
    "Combina busca semântica com uma otimização para trazer apenas documentos relevantes e não duplicados\n",
    "\n",
    "### Setup:"
   ]
  },
  {
   "cell_type": "code",
   "execution_count": 1,
   "metadata": {},
   "outputs": [
    {
     "name": "stderr",
     "output_type": "stream",
     "text": [
      "/Users/viniciusfinger/Library/Python/3.9/lib/python/site-packages/urllib3/__init__.py:35: NotOpenSSLWarning: urllib3 v2 only supports OpenSSL 1.1.1+, currently the 'ssl' module is compiled with 'LibreSSL 2.8.3'. See: https://github.com/urllib3/urllib3/issues/3020\n",
      "  warnings.warn(\n"
     ]
    }
   ],
   "source": [
    "from langchain_community.document_loaders.pdf import PyPDFLoader\n",
    "from langchain_text_splitters import RecursiveCharacterTextSplitter\n",
    "\n",
    "paths = [\n",
    "    \"../documents/ApostilaLangChain.pdf\",\n",
    "    \"../documents/Explorando a API da OpenAI.pdf\",\n",
    "    \"../documents/Explorando o Universo das IAs com Hugging Face.pdf\"\n",
    "]\n",
    "\n",
    "pages = []\n",
    "\n",
    "for path in paths:\n",
    "    loader = PyPDFLoader(path)\n",
    "    pages.extend(loader.load())\n",
    "    \n",
    "splitter = RecursiveCharacterTextSplitter(\n",
    "    chunk_size=500, \n",
    "    chunk_overlap=50,\n",
    "    separators=[\"\\n\\n\", \"\\n\",  \" \", \"\"]\n",
    ")\n",
    "\n",
    "documents = splitter.split_documents(pages)\n",
    "\n",
    "from langchain_openai import OpenAIEmbeddings\n",
    "from langchain_community.vectorstores.chroma import Chroma\n",
    "\n",
    "embedding = OpenAIEmbeddings()\n",
    "\n",
    "chroma_directory = \"../documents/chroma_vectorstore\"\n",
    "\n",
    "vector_store = Chroma.from_documents(\n",
    "    documents=documents,\n",
    "    embedding=embedding,\n",
    "    persist_directory=chroma_directory\n",
    ")"
   ]
  },
  {
   "cell_type": "code",
   "execution_count": 4,
   "metadata": {},
   "outputs": [
    {
     "name": "stdout",
     "output_type": "stream",
     "text": [
      "Explorando a API da OpenAI\n",
      "01. Bem-vindos ao curso Explorando a API da OpenAI\n",
      "Olá e bem-vindos ao nosso curso “Explorando a API da OpenAI”! Estou super animado por ter vocês\n",
      "aqui e mal posso esperar para explorarmos juntos esse universo fascinante da programação e da\n",
      "inteligência artificial.\n",
      "Vocês já devem ter percebido que a IA está mudando o jogo em muitos campos, certo? É incrível como\n",
      "ela está transformando a maneira como lidamos com informações e realiza tarefas que antes pareciam\n",
      "==========={'id': 242, 'page': 4, 'source': 'Explorando a API da OpenAI.pdf'}\n",
      "\n",
      "\n",
      "Explorando a API da OpenAI\n",
      "Conteúdo\n",
      "01. Bem-vindos ao curso Explorando a API da OpenAI 4\n",
      "02. Explorando a documentação da API 5\n",
      "O que é uma API? . . . . . . . . . . . . . . . . . . . . . . . . . . . . . . . . . . . . . . . . . 5\n",
      "A OpenAI . . . . . . . . . . . . . . . . . . . . . . . . . . . . . . . . . . . . . . . . . . . . . 6\n",
      "Acessando a documentação da API . . . . . . . . . . . . . . . . . . . . . . . . . . . . . . . 6\n",
      "==========={'id': 226, 'page': 1, 'source': 'Explorando a API da OpenAI.pdf'}\n",
      "\n",
      "\n",
      "Explorando a API da OpenAI\n",
      "Guias\n",
      "Também está disponível diversos guias de boas práticas recomendadas ao utilizar os modelos da\n",
      "OpenAI.\n",
      "Asimov Academy 9\n",
      "==========={'id': 258, 'page': 9, 'source': 'Explorando a API da OpenAI.pdf'}\n",
      "\n",
      "\n"
     ]
    }
   ],
   "source": [
    "question = 'O que é a OpenAI?'\n",
    "\n",
    "documents_result = vector_store.max_marginal_relevance_search(question, k=3, fetch_k=10)\n",
    "\n",
    "for doc in documents_result:\n",
    "    print(doc.page_content)\n",
    "    print(f'==========={doc.metadata}\\n\\n')"
   ]
  },
  {
   "cell_type": "markdown",
   "metadata": {},
   "source": [
    "### Filtragem\n",
    "É possível filtrar por dados específicos de algum metadado"
   ]
  },
  {
   "cell_type": "code",
   "execution_count": 6,
   "metadata": {},
   "outputs": [
    {
     "name": "stdout",
     "output_type": "stream",
     "text": [
      "Explorando o Universo das IAs com Hugging Face\n",
      "06. Modelos de conversação e geração de texto (chatbots)\n",
      "Vamos aprender agora a usar modelos de conversação, que funcionam de forma parecida com chatbots\n",
      "como ChatGPT . Na realidade, estes modelos estão classificados na tarefa de geração de texto ( text\n",
      "generation ) no Hugging Face:\n",
      "Figure 16: Página principal da tarefa text-generation do Hugging Face.\n",
      "Vamos utilizar o modelo Felladrin/Llama-68M-Chat-v1 , disponível no link a seguir:\n",
      "==========={'id': 573, 'page': 29, 'source': 'Explorando o Universo das IAs com Hugging Face.pdf'}\n",
      "\n",
      "\n",
      "Explorando o Universo das IAs com Hugging Face\n",
      "06. Modelos de conversação e geração de texto (chatbots)\n",
      "Vamos aprender agora a usar modelos de conversação, que funcionam de forma parecida com chatbots\n",
      "como ChatGPT . Na realidade, estes modelos estão classificados na tarefa de geração de texto ( text\n",
      "generation ) no Hugging Face:\n",
      "Figure 16: Página principal da tarefa text-generation do Hugging Face.\n",
      "Vamos utilizar o modelo Felladrin/Llama-68M-Chat-v1 , disponível no link a seguir:\n",
      "==========={'id': 573, 'page': 29, 'source': 'Explorando o Universo das IAs com Hugging Face.pdf'}\n",
      "\n",
      "\n",
      "Explorando o Universo das IAs com Hugging Face\n",
      "06. Modelos de conversação e geração de texto (chatbots) 29\n",
      "Acessando o modelo . . . . . . . . . . . . . . . . . . . . . . . . . . . . . . . . . . . . . . . 29\n",
      "Ajustando o template da mensagem . . . . . . . . . . . . . . . . . . . . . . . . . . . 30\n",
      "Ajustando parâmetros do modelo . . . . . . . . . . . . . . . . . . . . . . . . . . . . . 30\n",
      "07. Criando uma estrutura de chat 31\n",
      "==========={'id': 495, 'page': 2, 'source': 'Explorando o Universo das IAs com Hugging Face.pdf'}\n",
      "\n",
      "\n"
     ]
    }
   ],
   "source": [
    "question = 'O que a apostila de huggingface fala sobre OpenAI e chatGPT?'\n",
    "\n",
    "documents_result = vector_store.similarity_search(\n",
    "    query=question,\n",
    "    k=3,\n",
    "    filter={'source': 'Explorando o Universo das IAs com Hugging Face.pdf'}) # Filtro por 1 source\n",
    "\n",
    "documents_result = vector_store.similarity_search(\n",
    "    query=question,\n",
    "    k=3,\n",
    "    filter={'source': {'$in': [\"Explorando o Universo das IAs com Hugging Face.pdf\"]}}) # Filtro por lista de source\n",
    "\n",
    "for doc in documents_result:\n",
    "    print(doc.page_content)\n",
    "    print(f'==========={doc.metadata}\\n\\n')"
   ]
  }
 ],
 "metadata": {
  "kernelspec": {
   "display_name": "Python 3",
   "language": "python",
   "name": "python3"
  },
  "language_info": {
   "codemirror_mode": {
    "name": "ipython",
    "version": 3
   },
   "file_extension": ".py",
   "mimetype": "text/x-python",
   "name": "python",
   "nbconvert_exporter": "python",
   "pygments_lexer": "ipython3",
   "version": "3.9.6"
  }
 },
 "nbformat": 4,
 "nbformat_minor": 2
}
