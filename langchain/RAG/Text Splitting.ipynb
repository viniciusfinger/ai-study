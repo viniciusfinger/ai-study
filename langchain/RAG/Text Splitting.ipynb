{
 "cells": [
  {
   "cell_type": "markdown",
   "metadata": {},
   "source": [
    "# Text Splitting\n",
    "O splitting é uma parte crucial do RAG. Se for feito um splitting ruim e cortar no meio de uma frase, por exemplo, pode perder o sentido e o contexto. O retrieval trará pelo que for feito o splitting aqui.\n",
    "\n",
    "chunk_size = tamanho do recorte\n",
    "chunk_overlap = o quanto do próximo chunk estará contido nesse chunk, para não haver cortes bruscos."
   ]
  }
 ],
 "metadata": {
  "language_info": {
   "name": "python"
  }
 },
 "nbformat": 4,
 "nbformat_minor": 2
}
