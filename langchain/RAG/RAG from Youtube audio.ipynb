{
 "cells": [
  {
   "cell_type": "markdown",
   "metadata": {},
   "source": [
    "# RAG from YouTube Audio"
   ]
  },
  {
   "cell_type": "code",
   "execution_count": 5,
   "metadata": {},
   "outputs": [
    {
     "name": "stdout",
     "output_type": "stream",
     "text": [
      "[youtube] Extracting URL: https://www.youtube.com/watch?v=aurby_0nHsg\n",
      "[youtube] aurby_0nHsg: Downloading webpage\n",
      "[youtube] aurby_0nHsg: Downloading ios player API JSON\n",
      "[youtube] aurby_0nHsg: Downloading android player API JSON\n"
     ]
    },
    {
     "name": "stderr",
     "output_type": "stream",
     "text": [
      "WARNING: [youtube] aurby_0nHsg: nsig extraction failed: You may experience throttling for some formats\n",
      "         Install PhantomJS to workaround the issue. Please download it from https://phantomjs.org/download.html\n",
      "         n = TeS58r6aJJaT0m3H ; player = https://www.youtube.com/s/player/d9418494/player_ias.vflset/en_US/base.js\n",
      "WARNING: [youtube] aurby_0nHsg: nsig extraction failed: You may experience throttling for some formats\n",
      "         Install PhantomJS to workaround the issue. Please download it from https://phantomjs.org/download.html\n",
      "         n = cIqOh1_9phaq2A5w ; player = https://www.youtube.com/s/player/d9418494/player_ias.vflset/en_US/base.js\n"
     ]
    },
    {
     "name": "stdout",
     "output_type": "stream",
     "text": [
      "[youtube] aurby_0nHsg: Downloading m3u8 information\n",
      "[info] aurby_0nHsg: Downloading 1 format(s): 140\n",
      "[download] documents/youtube_audio//ASTRONAUTA FAMOSO VAI LIBERAR TUDO SOBRE OS OVNIS!.m4a has already been downloaded\n",
      "[download] 100% of    8.68MiB\n",
      "[ExtractAudio] Not converting audio documents/youtube_audio//ASTRONAUTA FAMOSO VAI LIBERAR TUDO SOBRE OS OVNIS!.m4a; file is already in target format m4a\n",
      "Transcribing part 1!\n"
     ]
    }
   ],
   "source": [
    "from langchain_community.document_loaders.generic import GenericLoader\n",
    "from langchain_community.document_loaders.blob_loaders.youtube_audio import YoutubeAudioLoader\n",
    "from langchain.document_loaders.parsers import OpenAIWhisperParser\n",
    "\n",
    "url = 'https://www.youtube.com/watch?v=aurby_0nHsg'\n",
    "save_dir = 'documents/youtube_audio/'\n",
    "\n",
    "# Generic Loader combina 2 loaders diferentes\n",
    "loader = GenericLoader(\n",
    "    YoutubeAudioLoader([url], save_dir),\n",
    "    OpenAIWhisperParser()\n",
    ")\n",
    "\n",
    "documents = loader.load()"
   ]
  },
  {
   "cell_type": "code",
   "execution_count": 6,
   "metadata": {},
   "outputs": [
    {
     "name": "stderr",
     "output_type": "stream",
     "text": [
      "/Users/viniciusfinger/Library/Python/3.9/lib/python/site-packages/langchain_core/_api/deprecation.py:119: LangChainDeprecationWarning: The class `ChatOpenAI` was deprecated in LangChain 0.0.10 and will be removed in 0.2.0. An updated version of the class exists in the langchain-openai package and should be used instead. To use it run `pip install -U langchain-openai` and import as `from langchain_openai import ChatOpenAI`.\n",
      "  warn_deprecated(\n",
      "/Users/viniciusfinger/Library/Python/3.9/lib/python/site-packages/langchain_core/_api/deprecation.py:119: LangChainDeprecationWarning: The method `Chain.run` was deprecated in langchain 0.1.0 and will be removed in 0.2.0. Use invoke instead.\n",
      "  warn_deprecated(\n"
     ]
    },
    {
     "name": "stdout",
     "output_type": "stream",
     "text": [
      "\n",
      "\n",
      "\u001b[1m> Entering new StuffDocumentsChain chain...\u001b[0m\n",
      "\n",
      "\n",
      "\u001b[1m> Entering new LLMChain chain...\u001b[0m\n",
      "Prompt after formatting:\n",
      "\u001b[32;1m\u001b[1;3mSystem: Use the following pieces of context to answer the user's question. \n",
      "If you don't know the answer, just say that you don't know, don't try to make up an answer.\n",
      "----------------\n",
      "E um astronauta super respeitado lá no meio aeroespacial e que pode vir a ser o vice-presidente dos Estados Unidos está pressionando o governo para que ele libere informações ou pelo menos intensifique as investigações sobre objetos de valores não identificados. E um astronauta super respeitado nunca esteve envolvido em nenhuma teoria da conspiração, na verdade ele é bem conhecido até por conta do seu ceticismo. E ele está propondo isso, uma intensificação das investigações envolvendo objetos voadores não identificados nos diz muita coisa, traz um peso para esse tema. Então esse é o assunto que eu quero compartilhar com vocês hoje. O astronauta é esse cara aqui, o Mark Kelly, ele deu uma entrevista recentemente onde ele reiterou sua preocupação com o aumento de alegações sobre objetos voadores não identificados. E ele falou nessa entrevista que ele deu, para onde ele deu essa entrevista? Para o Ian Bremmer, fundador do GZ-0, não sei, parece o nome de banda emo, né? Mas enfim, ele falou que os Estados Unidos, o governo dos Estados Unidos deveria intensificar aí as suas investigações sobre o tema. Bom, para quem não conhece o Kelly, ele tem uma vasta experiência no ramo aeroespacial, defesa e também trabalhou no programa do ônibus espacial. E aí um cara com essa experiência toda e que tem, como disse, uma visão cética de tudo, envolvendo coisas fantásticas, quando o cara fala isso realmente traz um peso muito maior. E aí nessa entrevista ele foi categórico em falar que a gente não deve zombar das pessoas que falam daquela coisa do A Verdade Está Lá Fora, que é um dos bordões do Arquivo X, uma das minhas séries preferidas dos anos 90. Ele falou que existe muita piada, até porque o assunto ganhou o mainstream, mas ele falou que tem coisas estranhas acontecendo, tem alegações que deveriam ser levadas mais a sério, então que ele está super a favor de ter mais investigação desse tema aí por parte do governo. Que tem a imagem do Kelly com o grupo que trabalhou aí com ele no ônibus espacial, em uma das missões que ele fez parte. Mas enfim, na entrevista ele falou o seguinte, abre aspas aqui. Vi alguns depoimentos convincentes de pilotos da Marinha, né, ele está se referindo aqui a relatos de aviadores de elite que, em posições de liderança de esquadrões, observaram fenômenos aéreos inexplicáveis. Kelly não especificou detalhes sobre esses avistamentos, mas é provável que ele estava se referindo ao depoimento do ex-piloto Ryan Graves, que em uma audiência no congresso, até que não há imagem do Ryan Graves numa audiência, Ah não, aqui tem uns objetos, Ryan Graves, que é esse cara aqui, em uma audiência do congresso, ele relatou ter avistado uma nave com características tão estranhas e avançadas, que seu comandante de voo cancelou imediatamente a missão. Então, para cancelar uma missão como essas, precisa ser uma coisa realmente muito grave, muito por certo eles viram alguma coisa realmente que deixou eles assustados, E estamos falando aqui de militares experientes, não era nenhum novato não, então isso deixou o Kelly um tanto com o pé atrás com essa história. Aí tem mais algumas informações aqui sobre o avistamento que ocorreu na costa da Virgínia, e Graves descreveu a nave como sendo tecnologicamente impossível de ser replicada por qualquer aeronave americana ou de adversários conhecidos. O Graves também estava lá naquele dia que o David Grunsch fez o juramento e trouxe todas as alegações dele, as do David Grunsch são alegações até mais à frente do que o Graves, o David Grunsch fala que tem corpos que foram resgatados, engerei a reversa rolando, o Graves no seu depoimento só falou sobre o que ele viu, as coisas que ele viu ali enquanto estava pilotando a aeronave dele. Vocês devem se lembrar que o Mark Kelly apareceu na mídia por muito tempo, um tempo atrás, porque ele participou de um experimento, ele ficou muito tempo na estação espacial internacional, quase um ano, e ele tem um irmão gêmeo que também é astronauta, que é o Scott Kerry que está aqui na imagem, e aí ele fez até um experimento interessante para notar como o tempo no espaço mudaria o corpo de uma pessoa, aí tinha como parâmetro o irmão gêmeo dele, que tem ali um organismo parecido, então usaram o irmão gêmeo como parâmetro para saber o que acontece com o corpo humano enquanto ele fica exposto a muito tempo no espaço, as condições do espaço, e também como o tempo passou para cada um, porque teve a dilatação do tempo, então ele ficou famoso por conta disso, acho que tem um livro dele até aqui atrás, do Scott Kerry, ou do Mark Kelly, enfim, um dos dois que lançou esse livro. O Kelly acredita que o congresso tem a obrigação de investigar alegações de OVNIs e UAPs, que é o termo que estão sendo utilizado lá, de maneira transparente e rigorosa, e ressaltou que apesar do termo UAP ter se popularizado recentemente para descrever tais fenômenos, na prática há pouca distinção entre OVNIs e UAPs, segundo ele, a questão central continua sendo o fato de que tais avistamentos desafiam o entendimento atual de tecnologia aérea e são relatados por indivíduos altamente treinados como pilotos militares, então, tá falando aqui, né, que os pilotos não teriam se confundido, aqui é uma imagem oficial, né, que foi divulgada aí, se eu não me engano, pela NASA na época, desses OVNIs, não sei se foi a NASA, sei que foi um departamento, algum órgão lá do governo americano divulgou, que é um OVNI Sfera. Recentemente, o comitê do Kelly confirmou que irá realizar uma nova audiência para discutir o assunto, vai ter uma nova audiência com foco em alienígenas, ou em discos voadores, né, no caso, e seria a primeira desde os depoimentos do verão passado, se falando de hemisfério norte, né, que trouxeram à tona alegações bombásticas, entre elas, destaca-se a do ex-funcionário do Pentágono, David Grunsch, que afirmou ter conhecimento de engenharia reversa de naves de origem alienígena e também, como eu falei, de corpos. Essa audiência, liderada pela senadora Christine Gillibrand, que é essa moça aqui, ela que vai liderar essa audiência, está previsto para acontecer em novembro, tá perto, e busca explorar mais a fundo essas alegações, muitas vezes, em voltas em sigilo. Obviamente que eu vou fazer a cobertura de tudo o que vai acontecer aí durante essa audiência, fique ligado no canal para não perder nada. E aí foi perguntado durante a entrevista, né, pra ele, que se ele já viu alguma coisa, ele foi astronauta por muito tempo, trabalhou muito tempo na Estação Espacial Internacional, né, aí foi perguntado pra ele, né, você já viu alguma coisa estranha no espaço, né, ao longo de sua carreira? Aí ele até brincou, ele falou que tipo, nossa, é o tipo de coisa que mais me perguntam, eu perguntaria, pô, você não viu alguma coisa estranha no espaço, não, né, você não viu uma navinha aí, um serzinho verde andando pra cá? Mas ele falou que ele pode ter visto alguma coisa estranha durante a trajetória dele como astronauta, mas que ele não sabe identificar, mas nada muito fantástico, nada assim que ele fala, meu Deus, isso aqui eu não sei explicar, né, ele falou que nada muito relevante dentro da carreira dele. Mas uma coisa interessante que ele fala é que ele nunca teve uma experiência direta, então ele pode ter ouvido falar de outros colegas aí, de coisas estranhas que podem ter sido vivenciadas no espaço. Mark Kelly é mais um nome de respeito, de peso, que entra aí nesse coro de vários militares, especialistas na área de área especial e assim por diante, que pedem mais expressão, fazem expressão, na verdade, pedem mais explicações do governo dos Estados Unidos sobre esse fenômeno que tem sido relatado aí por militares, civis e assim por diante, que são os objetos voadores não identificados, né, então vamos ver, né, que agora ele pode se tornar o vice-presidente, porque a Kamala Harris, que é uma das candidatas, a gente ainda não sabe quem vai ganhar, pode ser que o Trump ganhe, pode ser que a Kamala ganhe, mas se der Kamala, ele pode ser o vice-presidente, apesar que o Trump também falou que tá louco pra liberar arquivos de ovnis, mas na eleição anterior ele também falou a mesma coisa e não liberou muita coisa, né, mas enfim, ele, como astronauta, ele pode se tornar um candidato a ser vice e pode ser que ele facilite um pouco as coisas, então vamos continuar acompanhando tudo que tá acontecendo e quando tiver mais informações, eu trago aqui pra vocês, pra não perder nada, se inscrevam no canal E se você quiser apoiar esse que você fala, como eu já disse várias vezes aqui, eu não tenho Patreon, não tenho apoia-se, não tenho nada disso, mas temos patrocinadores que acreditam no meu trabalho aqui no YouTube e uma delas é a Insider, então se você quiser comprar roupas da Insider com desconto da Hora, é só usar o cupom Schwarza, porque além de você tá comprando uma roupa com qualidade atestada por esse que você fala, você vai ter uma roupa de qualidade nas suas mãos e ainda ajuda esse que você fala a manter seu trabalho aqui nessa distinta plataforma E outras vantagens de comprar a Insider é porque tem tecnologia anti-douro, anti-suor, tecnologia essa herdada de experimentos envolvendo aí como manter o astronauta confortável no espaço, tudo isso voltou pra Terra e a Insider faz uso dessa tecnologia pra tornar a sua vida mais confortável, então usa o cupom Schwarza pra ganhar um desconto, tá rolando ainda até o final de setembro, vai tá rolando a promoção do dia do cliente, então o cupom Schwarza vai tá valendo 15% e somado com as promoções que estão rolando lá no site da Insider, os descontos podem chegar a 30% Olhem só que maravilha, então vai lá, o link tá aqui embaixo na descrição, usa o cupom Schwarza e aproveite as promoções do dia do cliente, do mês do cliente que se tornou lá na Insider, beleza pessoal? Então é isso, eu vou ficando por aqui com mais esse vídeo, um grande abraço pra vocês e hasta!\n",
      "Human: Quem é o astronauta?\u001b[0m\n",
      "\n",
      "\u001b[1m> Finished chain.\u001b[0m\n",
      "\n",
      "\u001b[1m> Finished chain.\u001b[0m\n",
      "O astronauta mencionado na descrição é o Mark Kelly. Ele é um astronauta respeitado no meio aeroespacial e está pressionando o governo dos Estados Unidos para liberar informações ou intensificar as investigações sobre objetos voadores não identificados. Kelly é conhecido por sua vasta experiência no ramo aeroespacial, defesa e por ter trabalhado no programa do ônibus espacial.\n"
     ]
    }
   ],
   "source": [
    "from langchain.chains.question_answering import load_qa_chain\n",
    "from langchain.chat_models import ChatOpenAI\n",
    "\n",
    "llm = ChatOpenAI(model=\"gpt-3.5-turbo\")\n",
    "\n",
    "chain = load_qa_chain(llm=llm, chain_type=\"stuff\", verbose=True) # stuff é um tipo de retrieval\n",
    "print(chain.run(\n",
    "    input_documents=documents[:500],\n",
    "    question=\"Quem é o astronauta?\"\n",
    "))"
   ]
  }
 ],
 "metadata": {
  "kernelspec": {
   "display_name": "Python 3",
   "language": "python",
   "name": "python3"
  },
  "language_info": {
   "codemirror_mode": {
    "name": "ipython",
    "version": 3
   },
   "file_extension": ".py",
   "mimetype": "text/x-python",
   "name": "python",
   "nbconvert_exporter": "python",
   "pygments_lexer": "ipython3",
   "version": "3.9.6"
  }
 },
 "nbformat": 4,
 "nbformat_minor": 2
}
