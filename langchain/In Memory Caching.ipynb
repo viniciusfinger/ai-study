{
 "cells": [
  {
   "cell_type": "markdown",
   "metadata": {},
   "source": [
    "# In Memory Caching\n",
    "Maintain cache while script is running"
   ]
  },
  {
   "cell_type": "code",
   "execution_count": 3,
   "metadata": {},
   "outputs": [],
   "source": [
    "from langchain_openai.chat_models import ChatOpenAI\n",
    "from langchain_core.messages import HumanMessage, AIMessage\n",
    "\n",
    "# Setup\n",
    "llm = ChatOpenAI()\n",
    "\n",
    "messages = [\n",
    "    HumanMessage(content='How much is 1 + 1?'),\n",
    "    AIMessage(content='2'),\n",
    "    HumanMessage(content='How much is 140 * 2?'),\n",
    "    AIMessage(content='280'),\n",
    "    HumanMessage(content='How much is 130 * 3 + 1?'),\n",
    "]"
   ]
  },
  {
   "cell_type": "markdown",
   "metadata": {},
   "source": [
    "### Configuring cache"
   ]
  },
  {
   "cell_type": "code",
   "execution_count": 12,
   "metadata": {},
   "outputs": [],
   "source": [
    "from langchain.cache import InMemoryCache\n",
    "from langchain.globals import set_llm_cache\n",
    "\n",
    "set_llm_cache(InMemoryCache())"
   ]
  },
  {
   "cell_type": "markdown",
   "metadata": {},
   "source": [
    "Running for the first time:"
   ]
  },
  {
   "cell_type": "code",
   "execution_count": 13,
   "metadata": {},
   "outputs": [
    {
     "name": "stdout",
     "output_type": "stream",
     "text": [
      "CPU times: user 20.1 ms, sys: 5.77 ms, total: 25.9 ms\n",
      "Wall time: 836 ms\n"
     ]
    },
    {
     "data": {
      "text/plain": [
       "AIMessage(content='391', response_metadata={'token_usage': {'completion_tokens': 1, 'prompt_tokens': 55, 'total_tokens': 56, 'completion_tokens_details': {'reasoning_tokens': 0}}, 'model_name': 'gpt-3.5-turbo-0125', 'system_fingerprint': None, 'finish_reason': 'stop', 'logprobs': None}, id='run-0d204929-4178-4a16-b2b8-b9b6ab8e845e-0', usage_metadata={'input_tokens': 55, 'output_tokens': 1, 'total_tokens': 56})"
      ]
     },
     "execution_count": 13,
     "metadata": {},
     "output_type": "execute_result"
    }
   ],
   "source": [
    "%%time\n",
    "\n",
    "llm.invoke(messages)"
   ]
  },
  {
   "cell_type": "markdown",
   "metadata": {},
   "source": [
    "Running for the second time: (fetching response in cache)"
   ]
  },
  {
   "cell_type": "code",
   "execution_count": 14,
   "metadata": {},
   "outputs": [
    {
     "name": "stdout",
     "output_type": "stream",
     "text": [
      "CPU times: user 2.81 ms, sys: 1.39 ms, total: 4.2 ms\n",
      "Wall time: 4.1 ms\n"
     ]
    },
    {
     "data": {
      "text/plain": [
       "AIMessage(content='391', response_metadata={'token_usage': {'completion_tokens': 1, 'prompt_tokens': 55, 'total_tokens': 56, 'completion_tokens_details': {'reasoning_tokens': 0}}, 'model_name': 'gpt-3.5-turbo-0125', 'system_fingerprint': None, 'finish_reason': 'stop', 'logprobs': None}, id='run-0d204929-4178-4a16-b2b8-b9b6ab8e845e-0', usage_metadata={'input_tokens': 55, 'output_tokens': 1, 'total_tokens': 56})"
      ]
     },
     "execution_count": 14,
     "metadata": {},
     "output_type": "execute_result"
    }
   ],
   "source": [
    "%%time\n",
    "\n",
    "llm.invoke(messages)"
   ]
  }
 ],
 "metadata": {
  "kernelspec": {
   "display_name": "Python 3",
   "language": "python",
   "name": "python3"
  },
  "language_info": {
   "codemirror_mode": {
    "name": "ipython",
    "version": 3
   },
   "file_extension": ".py",
   "mimetype": "text/x-python",
   "name": "python",
   "nbconvert_exporter": "python",
   "pygments_lexer": "ipython3",
   "version": "3.9.6"
  }
 },
 "nbformat": 4,
 "nbformat_minor": 2
}
